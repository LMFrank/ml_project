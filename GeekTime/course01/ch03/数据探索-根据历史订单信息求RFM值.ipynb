{
 "cells": [
  {
   "cell_type": "code",
   "execution_count": 9,
   "metadata": {
    "collapsed": true
   },
   "outputs": [
    {
     "data": {
      "text/plain": "      订单号     产品码           消费日期           产品说明  数量     单价    用户码  城市\n0  536374   21258  6/1/2020 9:09        五彩玫瑰五支装  32  10.95  15100  北京\n1  536376   22114  6/1/2020 9:32       茉莉花白色25枝  48   3.45  15291  上海\n2  536376   21733  6/1/2020 9:32  教师节向日葵3枝尤加利5枝  64   2.55  15291  上海\n3  536378   22386  6/1/2020 9:37       百合粉色10花苞  10   1.95  14688  北京\n4  536378  85099C  6/1/2020 9:37       橙黄香槟色康乃馨  10   1.95  14688  北京",
      "text/html": "<div>\n<style scoped>\n    .dataframe tbody tr th:only-of-type {\n        vertical-align: middle;\n    }\n\n    .dataframe tbody tr th {\n        vertical-align: top;\n    }\n\n    .dataframe thead th {\n        text-align: right;\n    }\n</style>\n<table border=\"1\" class=\"dataframe\">\n  <thead>\n    <tr style=\"text-align: right;\">\n      <th></th>\n      <th>订单号</th>\n      <th>产品码</th>\n      <th>消费日期</th>\n      <th>产品说明</th>\n      <th>数量</th>\n      <th>单价</th>\n      <th>用户码</th>\n      <th>城市</th>\n    </tr>\n  </thead>\n  <tbody>\n    <tr>\n      <th>0</th>\n      <td>536374</td>\n      <td>21258</td>\n      <td>6/1/2020 9:09</td>\n      <td>五彩玫瑰五支装</td>\n      <td>32</td>\n      <td>10.95</td>\n      <td>15100</td>\n      <td>北京</td>\n    </tr>\n    <tr>\n      <th>1</th>\n      <td>536376</td>\n      <td>22114</td>\n      <td>6/1/2020 9:32</td>\n      <td>茉莉花白色25枝</td>\n      <td>48</td>\n      <td>3.45</td>\n      <td>15291</td>\n      <td>上海</td>\n    </tr>\n    <tr>\n      <th>2</th>\n      <td>536376</td>\n      <td>21733</td>\n      <td>6/1/2020 9:32</td>\n      <td>教师节向日葵3枝尤加利5枝</td>\n      <td>64</td>\n      <td>2.55</td>\n      <td>15291</td>\n      <td>上海</td>\n    </tr>\n    <tr>\n      <th>3</th>\n      <td>536378</td>\n      <td>22386</td>\n      <td>6/1/2020 9:37</td>\n      <td>百合粉色10花苞</td>\n      <td>10</td>\n      <td>1.95</td>\n      <td>14688</td>\n      <td>北京</td>\n    </tr>\n    <tr>\n      <th>4</th>\n      <td>536378</td>\n      <td>85099C</td>\n      <td>6/1/2020 9:37</td>\n      <td>橙黄香槟色康乃馨</td>\n      <td>10</td>\n      <td>1.95</td>\n      <td>14688</td>\n      <td>北京</td>\n    </tr>\n  </tbody>\n</table>\n</div>"
     },
     "execution_count": 9,
     "metadata": {},
     "output_type": "execute_result"
    }
   ],
   "source": [
    "import pandas as pd\n",
    "\n",
    "df_sales = pd.read_csv('易速鲜花订单记录.csv')\n",
    "df_sales.head()"
   ]
  },
  {
   "cell_type": "code",
   "execution_count": 10,
   "outputs": [
    {
     "data": {
      "text/plain": "<Figure size 864x432 with 1 Axes>",
      "image/png": "[encoded data removed]"
     },
     "metadata": {
      "needs_background": "light"
     },
     "output_type": "display_data"
    }
   ],
   "source": [
    "import matplotlib.pyplot as plt\n",
    "\n",
    "plt.rcParams['font.sans-serif']=['SimHei']\n",
    "\n",
    "df_sales['消费日期'] = pd.to_datetime(df_sales['消费日期'])\n",
    "df_orders_monthly = df_sales.set_index('消费日期')['订单号'].resample('M').nunique()\n",
    "\n",
    "ax = pd.DataFrame(df_orders_monthly.values).plot(grid=True, figsize=(12, 6), legend=False)\n",
    "ax.set_xlabel('月份')\n",
    "ax.set_ylabel('订单数')\n",
    "ax.set_title('月度订单数')\n",
    "plt.xticks(\n",
    "    range(len(df_orders_monthly.index)),\n",
    "    [x.strftime('%m.%Y') for x in df_orders_monthly.index],\n",
    "    rotation=45\n",
    ")\n",
    "plt.show()"
   ],
   "metadata": {
    "collapsed": false,
    "pycharm": {
     "name": "#%%\n"
    }
   }
  },
  {
   "cell_type": "code",
   "execution_count": 11,
   "outputs": [],
   "source": [
    "df_sales = df_sales.drop_duplicates()"
   ],
   "metadata": {
    "collapsed": false,
    "pycharm": {
     "name": "#%%\n"
    }
   }
  },
  {
   "cell_type": "code",
   "execution_count": 12,
   "outputs": [
    {
     "data": {
      "text/plain": "订单号     0\n产品码     0\n消费日期    0\n产品说明    0\n数量      0\n单价      0\n用户码     0\n城市      0\ndtype: int64"
     },
     "execution_count": 12,
     "metadata": {},
     "output_type": "execute_result"
    }
   ],
   "source": [
    "df_sales.isna().sum()"
   ],
   "metadata": {
    "collapsed": false,
    "pycharm": {
     "name": "#%%\n"
    }
   }
  },
  {
   "cell_type": "code",
   "execution_count": 13,
   "outputs": [
    {
     "data": {
      "text/plain": "                 数量            单价           用户码\ncount  85920.000000  85920.000000  85920.000000\nmean      10.115747      3.599711  15338.080389\nstd       49.114285    134.410498    391.309086\nmin    -9360.000000      0.000000  14681.000000\n25%        2.000000      1.250000  15022.000000\n50%        4.000000      1.950000  15334.000000\n75%       12.000000      3.750000  15673.000000\nmax     3114.000000  38970.000000  16019.000000",
      "text/html": "<div>\n<style scoped>\n    .dataframe tbody tr th:only-of-type {\n        vertical-align: middle;\n    }\n\n    .dataframe tbody tr th {\n        vertical-align: top;\n    }\n\n    .dataframe thead th {\n        text-align: right;\n    }\n</style>\n<table border=\"1\" class=\"dataframe\">\n  <thead>\n    <tr style=\"text-align: right;\">\n      <th></th>\n      <th>数量</th>\n      <th>单价</th>\n      <th>用户码</th>\n    </tr>\n  </thead>\n  <tbody>\n    <tr>\n      <th>count</th>\n      <td>85920.000000</td>\n      <td>85920.000000</td>\n      <td>85920.000000</td>\n    </tr>\n    <tr>\n      <th>mean</th>\n      <td>10.115747</td>\n      <td>3.599711</td>\n      <td>15338.080389</td>\n    </tr>\n    <tr>\n      <th>std</th>\n      <td>49.114285</td>\n      <td>134.410498</td>\n      <td>391.309086</td>\n    </tr>\n    <tr>\n      <th>min</th>\n      <td>-9360.000000</td>\n      <td>0.000000</td>\n      <td>14681.000000</td>\n    </tr>\n    <tr>\n      <th>25%</th>\n      <td>2.000000</td>\n      <td>1.250000</td>\n      <td>15022.000000</td>\n    </tr>\n    <tr>\n      <th>50%</th>\n      <td>4.000000</td>\n      <td>1.950000</td>\n      <td>15334.000000</td>\n    </tr>\n    <tr>\n      <th>75%</th>\n      <td>12.000000</td>\n      <td>3.750000</td>\n      <td>15673.000000</td>\n    </tr>\n    <tr>\n      <th>max</th>\n      <td>3114.000000</td>\n      <td>38970.000000</td>\n      <td>16019.000000</td>\n    </tr>\n  </tbody>\n</table>\n</div>"
     },
     "execution_count": 13,
     "metadata": {},
     "output_type": "execute_result"
    }
   ],
   "source": [
    "df_sales.describe()"
   ],
   "metadata": {
    "collapsed": false,
    "pycharm": {
     "name": "#%%\n"
    }
   }
  },
  {
   "cell_type": "code",
   "execution_count": 14,
   "outputs": [
    {
     "data": {
      "text/plain": "                 数量            单价           用户码\ncount  84112.000000  84112.000000  84112.000000\nmean      10.760236      3.005032  15337.732963\nstd       34.018906     15.365085    392.074855\nmin        1.000000      0.000000  14681.000000\n25%        2.000000      1.250000  15021.000000\n50%        5.000000      1.950000  15333.000000\n75%       12.000000      3.750000  15674.000000\nmax     3114.000000   3155.950000  16019.000000",
      "text/html": "<div>\n<style scoped>\n    .dataframe tbody tr th:only-of-type {\n        vertical-align: middle;\n    }\n\n    .dataframe tbody tr th {\n        vertical-align: top;\n    }\n\n    .dataframe thead th {\n        text-align: right;\n    }\n</style>\n<table border=\"1\" class=\"dataframe\">\n  <thead>\n    <tr style=\"text-align: right;\">\n      <th></th>\n      <th>数量</th>\n      <th>单价</th>\n      <th>用户码</th>\n    </tr>\n  </thead>\n  <tbody>\n    <tr>\n      <th>count</th>\n      <td>84112.000000</td>\n      <td>84112.000000</td>\n      <td>84112.000000</td>\n    </tr>\n    <tr>\n      <th>mean</th>\n      <td>10.760236</td>\n      <td>3.005032</td>\n      <td>15337.732963</td>\n    </tr>\n    <tr>\n      <th>std</th>\n      <td>34.018906</td>\n      <td>15.365085</td>\n      <td>392.074855</td>\n    </tr>\n    <tr>\n      <th>min</th>\n      <td>1.000000</td>\n      <td>0.000000</td>\n      <td>14681.000000</td>\n    </tr>\n    <tr>\n      <th>25%</th>\n      <td>2.000000</td>\n      <td>1.250000</td>\n      <td>15021.000000</td>\n    </tr>\n    <tr>\n      <th>50%</th>\n      <td>5.000000</td>\n      <td>1.950000</td>\n      <td>15333.000000</td>\n    </tr>\n    <tr>\n      <th>75%</th>\n      <td>12.000000</td>\n      <td>3.750000</td>\n      <td>15674.000000</td>\n    </tr>\n    <tr>\n      <th>max</th>\n      <td>3114.000000</td>\n      <td>3155.950000</td>\n      <td>16019.000000</td>\n    </tr>\n  </tbody>\n</table>\n</div>"
     },
     "execution_count": 14,
     "metadata": {},
     "output_type": "execute_result"
    }
   ],
   "source": [
    "df_sales = df_sales.loc[df_sales['数量'] > 0]\n",
    "df_sales.describe()"
   ],
   "metadata": {
    "collapsed": false,
    "pycharm": {
     "name": "#%%\n"
    }
   }
  },
  {
   "cell_type": "code",
   "execution_count": 15,
   "outputs": [
    {
     "data": {
      "text/plain": "      订单号     产品码                消费日期           产品说明  数量     单价    用户码  城市  \\\n0  536374   21258 2020-06-01 09:09:00        五彩玫瑰五支装  32  10.95  15100  北京   \n1  536376   22114 2020-06-01 09:32:00       茉莉花白色25枝  48   3.45  15291  上海   \n2  536376   21733 2020-06-01 09:32:00  教师节向日葵3枝尤加利5枝  64   2.55  15291  上海   \n3  536378   22386 2020-06-01 09:37:00       百合粉色10花苞  10   1.95  14688  北京   \n4  536378  85099C 2020-06-01 09:37:00       橙黄香槟色康乃馨  10   1.95  14688  北京   \n\n      总价  \n0  350.4  \n1  165.6  \n2  163.2  \n3   19.5  \n4   19.5  ",
      "text/html": "<div>\n<style scoped>\n    .dataframe tbody tr th:only-of-type {\n        vertical-align: middle;\n    }\n\n    .dataframe tbody tr th {\n        vertical-align: top;\n    }\n\n    .dataframe thead th {\n        text-align: right;\n    }\n</style>\n<table border=\"1\" class=\"dataframe\">\n  <thead>\n    <tr style=\"text-align: right;\">\n      <th></th>\n      <th>订单号</th>\n      <th>产品码</th>\n      <th>消费日期</th>\n      <th>产品说明</th>\n      <th>数量</th>\n      <th>单价</th>\n      <th>用户码</th>\n      <th>城市</th>\n      <th>总价</th>\n    </tr>\n  </thead>\n  <tbody>\n    <tr>\n      <th>0</th>\n      <td>536374</td>\n      <td>21258</td>\n      <td>2020-06-01 09:09:00</td>\n      <td>五彩玫瑰五支装</td>\n      <td>32</td>\n      <td>10.95</td>\n      <td>15100</td>\n      <td>北京</td>\n      <td>350.4</td>\n    </tr>\n    <tr>\n      <th>1</th>\n      <td>536376</td>\n      <td>22114</td>\n      <td>2020-06-01 09:32:00</td>\n      <td>茉莉花白色25枝</td>\n      <td>48</td>\n      <td>3.45</td>\n      <td>15291</td>\n      <td>上海</td>\n      <td>165.6</td>\n    </tr>\n    <tr>\n      <th>2</th>\n      <td>536376</td>\n      <td>21733</td>\n      <td>2020-06-01 09:32:00</td>\n      <td>教师节向日葵3枝尤加利5枝</td>\n      <td>64</td>\n      <td>2.55</td>\n      <td>15291</td>\n      <td>上海</td>\n      <td>163.2</td>\n    </tr>\n    <tr>\n      <th>3</th>\n      <td>536378</td>\n      <td>22386</td>\n      <td>2020-06-01 09:37:00</td>\n      <td>百合粉色10花苞</td>\n      <td>10</td>\n      <td>1.95</td>\n      <td>14688</td>\n      <td>北京</td>\n      <td>19.5</td>\n    </tr>\n    <tr>\n      <th>4</th>\n      <td>536378</td>\n      <td>85099C</td>\n      <td>2020-06-01 09:37:00</td>\n      <td>橙黄香槟色康乃馨</td>\n      <td>10</td>\n      <td>1.95</td>\n      <td>14688</td>\n      <td>北京</td>\n      <td>19.5</td>\n    </tr>\n  </tbody>\n</table>\n</div>"
     },
     "execution_count": 15,
     "metadata": {},
     "output_type": "execute_result"
    }
   ],
   "source": [
    "df_sales['总价'] = df_sales['数量'] * df_sales['单价']\n",
    "df_sales.head()"
   ],
   "metadata": {
    "collapsed": false,
    "pycharm": {
     "name": "#%%\n"
    }
   }
  },
  {
   "cell_type": "code",
   "execution_count": 16,
   "outputs": [
    {
     "data": {
      "text/plain": "       用户码\n0    14681\n1    14682\n2    14684\n3    14687\n4    14688\n..     ...\n975  16015\n976  16016\n977  16017\n978  16018\n979  16019\n\n[980 rows x 1 columns]",
      "text/html": "<div>\n<style scoped>\n    .dataframe tbody tr th:only-of-type {\n        vertical-align: middle;\n    }\n\n    .dataframe tbody tr th {\n        vertical-align: top;\n    }\n\n    .dataframe thead th {\n        text-align: right;\n    }\n</style>\n<table border=\"1\" class=\"dataframe\">\n  <thead>\n    <tr style=\"text-align: right;\">\n      <th></th>\n      <th>用户码</th>\n    </tr>\n  </thead>\n  <tbody>\n    <tr>\n      <th>0</th>\n      <td>14681</td>\n    </tr>\n    <tr>\n      <th>1</th>\n      <td>14682</td>\n    </tr>\n    <tr>\n      <th>2</th>\n      <td>14684</td>\n    </tr>\n    <tr>\n      <th>3</th>\n      <td>14687</td>\n    </tr>\n    <tr>\n      <th>4</th>\n      <td>14688</td>\n    </tr>\n    <tr>\n      <th>...</th>\n      <td>...</td>\n    </tr>\n    <tr>\n      <th>975</th>\n      <td>16015</td>\n    </tr>\n    <tr>\n      <th>976</th>\n      <td>16016</td>\n    </tr>\n    <tr>\n      <th>977</th>\n      <td>16017</td>\n    </tr>\n    <tr>\n      <th>978</th>\n      <td>16018</td>\n    </tr>\n    <tr>\n      <th>979</th>\n      <td>16019</td>\n    </tr>\n  </tbody>\n</table>\n<p>980 rows × 1 columns</p>\n</div>"
     },
     "execution_count": 16,
     "metadata": {},
     "output_type": "execute_result"
    }
   ],
   "source": [
    "df_user = pd.DataFrame(df_sales['用户码'].unique())\n",
    "df_user.columns = ['用户码']\n",
    "df_user = df_user.sort_values(by='用户码', ascending=True).reset_index(drop=True)\n",
    "df_user"
   ],
   "metadata": {
    "collapsed": false,
    "pycharm": {
     "name": "#%%\n"
    }
   }
  },
  {
   "cell_type": "code",
   "execution_count": 17,
   "outputs": [
    {
     "data": {
      "text/plain": "     用户码   R值\n0  14681   70\n1  14682  187\n2  14684   25\n3  14687  106\n4  14688    7",
      "text/html": "<div>\n<style scoped>\n    .dataframe tbody tr th:only-of-type {\n        vertical-align: middle;\n    }\n\n    .dataframe tbody tr th {\n        vertical-align: top;\n    }\n\n    .dataframe thead th {\n        text-align: right;\n    }\n</style>\n<table border=\"1\" class=\"dataframe\">\n  <thead>\n    <tr style=\"text-align: right;\">\n      <th></th>\n      <th>用户码</th>\n      <th>R值</th>\n    </tr>\n  </thead>\n  <tbody>\n    <tr>\n      <th>0</th>\n      <td>14681</td>\n      <td>70</td>\n    </tr>\n    <tr>\n      <th>1</th>\n      <td>14682</td>\n      <td>187</td>\n    </tr>\n    <tr>\n      <th>2</th>\n      <td>14684</td>\n      <td>25</td>\n    </tr>\n    <tr>\n      <th>3</th>\n      <td>14687</td>\n      <td>106</td>\n    </tr>\n    <tr>\n      <th>4</th>\n      <td>14688</td>\n      <td>7</td>\n    </tr>\n  </tbody>\n</table>\n</div>"
     },
     "execution_count": 17,
     "metadata": {},
     "output_type": "execute_result"
    }
   ],
   "source": [
    "df_sales['消费日期'] = pd.to_datetime(df_sales['消费日期'])\n",
    "df_recent_buy = df_sales.groupby('用户码').消费日期.max().reset_index()\n",
    "df_recent_buy.columns= ['用户码', '最近日期']\n",
    "df_recent_buy['R值'] = (df_recent_buy['最近日期'].max() - df_recent_buy['最近日期']).dt.days\n",
    "df_user = pd.merge(df_user, df_recent_buy[['用户码', 'R值']], on='用户码')\n",
    "df_user.head()"
   ],
   "metadata": {
    "collapsed": false,
    "pycharm": {
     "name": "#%%\n"
    }
   }
  },
  {
   "cell_type": "code",
   "execution_count": 18,
   "outputs": [
    {
     "data": {
      "text/plain": "     用户码   R值   F值\n0  14681   70    7\n1  14682  187    2\n2  14684   25  390\n3  14687  106   15\n4  14688    7  324",
      "text/html": "<div>\n<style scoped>\n    .dataframe tbody tr th:only-of-type {\n        vertical-align: middle;\n    }\n\n    .dataframe tbody tr th {\n        vertical-align: top;\n    }\n\n    .dataframe thead th {\n        text-align: right;\n    }\n</style>\n<table border=\"1\" class=\"dataframe\">\n  <thead>\n    <tr style=\"text-align: right;\">\n      <th></th>\n      <th>用户码</th>\n      <th>R值</th>\n      <th>F值</th>\n    </tr>\n  </thead>\n  <tbody>\n    <tr>\n      <th>0</th>\n      <td>14681</td>\n      <td>70</td>\n      <td>7</td>\n    </tr>\n    <tr>\n      <th>1</th>\n      <td>14682</td>\n      <td>187</td>\n      <td>2</td>\n    </tr>\n    <tr>\n      <th>2</th>\n      <td>14684</td>\n      <td>25</td>\n      <td>390</td>\n    </tr>\n    <tr>\n      <th>3</th>\n      <td>14687</td>\n      <td>106</td>\n      <td>15</td>\n    </tr>\n    <tr>\n      <th>4</th>\n      <td>14688</td>\n      <td>7</td>\n      <td>324</td>\n    </tr>\n  </tbody>\n</table>\n</div>"
     },
     "execution_count": 18,
     "metadata": {},
     "output_type": "execute_result"
    }
   ],
   "source": [
    "df_frequency = df_sales.groupby('用户码').消费日期.count().reset_index()\n",
    "df_frequency.columns = ['用户码', 'F值']\n",
    "df_user = pd.merge(df_user, df_frequency, on='用户码')\n",
    "df_user.head()"
   ],
   "metadata": {
    "collapsed": false,
    "pycharm": {
     "name": "#%%\n"
    }
   }
  },
  {
   "cell_type": "code",
   "execution_count": 19,
   "outputs": [
    {
     "data": {
      "text/plain": "     用户码   R值   F值       M值\n0  14681   70    7   498.95\n1  14682  187    2    52.00\n2  14684   25  390  1201.51\n3  14687  106   15   628.38\n4  14688    7  324  5579.10",
      "text/html": "<div>\n<style scoped>\n    .dataframe tbody tr th:only-of-type {\n        vertical-align: middle;\n    }\n\n    .dataframe tbody tr th {\n        vertical-align: top;\n    }\n\n    .dataframe thead th {\n        text-align: right;\n    }\n</style>\n<table border=\"1\" class=\"dataframe\">\n  <thead>\n    <tr style=\"text-align: right;\">\n      <th></th>\n      <th>用户码</th>\n      <th>R值</th>\n      <th>F值</th>\n      <th>M值</th>\n    </tr>\n  </thead>\n  <tbody>\n    <tr>\n      <th>0</th>\n      <td>14681</td>\n      <td>70</td>\n      <td>7</td>\n      <td>498.95</td>\n    </tr>\n    <tr>\n      <th>1</th>\n      <td>14682</td>\n      <td>187</td>\n      <td>2</td>\n      <td>52.00</td>\n    </tr>\n    <tr>\n      <th>2</th>\n      <td>14684</td>\n      <td>25</td>\n      <td>390</td>\n      <td>1201.51</td>\n    </tr>\n    <tr>\n      <th>3</th>\n      <td>14687</td>\n      <td>106</td>\n      <td>15</td>\n      <td>628.38</td>\n    </tr>\n    <tr>\n      <th>4</th>\n      <td>14688</td>\n      <td>7</td>\n      <td>324</td>\n      <td>5579.10</td>\n    </tr>\n  </tbody>\n</table>\n</div>"
     },
     "execution_count": 19,
     "metadata": {},
     "output_type": "execute_result"
    }
   ],
   "source": [
    "df_revenue = df_sales.groupby('用户码').总价.sum().reset_index()\n",
    "df_revenue.columns = ['用户码', 'M值']\n",
    "df_user = pd.merge(df_user, df_revenue, on='用户码')\n",
    "df_user.head()"
   ],
   "metadata": {
    "collapsed": false,
    "pycharm": {
     "name": "#%%\n"
    }
   }
  },
  {
   "cell_type": "code",
   "execution_count": 20,
   "outputs": [
    {
     "data": {
      "text/plain": "       用户码                最近日期   R值\n0    14681 2021-03-30 15:52:00   70\n1    14682 2020-12-04 12:12:00  187\n2    14684 2021-05-15 11:33:00   25\n3    14687 2021-02-23 11:59:00  106\n4    14688 2021-06-02 12:26:00    7\n..     ...                 ...  ...\n975  16015 2021-06-06 10:58:00    3\n976  16016 2021-06-06 14:35:00    2\n977  16017 2021-04-23 12:56:00   46\n978  16018 2021-05-01 14:13:00   38\n979  16019 2021-04-24 11:51:00   46\n\n[980 rows x 3 columns]",
      "text/html": "<div>\n<style scoped>\n    .dataframe tbody tr th:only-of-type {\n        vertical-align: middle;\n    }\n\n    .dataframe tbody tr th {\n        vertical-align: top;\n    }\n\n    .dataframe thead th {\n        text-align: right;\n    }\n</style>\n<table border=\"1\" class=\"dataframe\">\n  <thead>\n    <tr style=\"text-align: right;\">\n      <th></th>\n      <th>用户码</th>\n      <th>最近日期</th>\n      <th>R值</th>\n    </tr>\n  </thead>\n  <tbody>\n    <tr>\n      <th>0</th>\n      <td>14681</td>\n      <td>2021-03-30 15:52:00</td>\n      <td>70</td>\n    </tr>\n    <tr>\n      <th>1</th>\n      <td>14682</td>\n      <td>2020-12-04 12:12:00</td>\n      <td>187</td>\n    </tr>\n    <tr>\n      <th>2</th>\n      <td>14684</td>\n      <td>2021-05-15 11:33:00</td>\n      <td>25</td>\n    </tr>\n    <tr>\n      <th>3</th>\n      <td>14687</td>\n      <td>2021-02-23 11:59:00</td>\n      <td>106</td>\n    </tr>\n    <tr>\n      <th>4</th>\n      <td>14688</td>\n      <td>2021-06-02 12:26:00</td>\n      <td>7</td>\n    </tr>\n    <tr>\n      <th>...</th>\n      <td>...</td>\n      <td>...</td>\n      <td>...</td>\n    </tr>\n    <tr>\n      <th>975</th>\n      <td>16015</td>\n      <td>2021-06-06 10:58:00</td>\n      <td>3</td>\n    </tr>\n    <tr>\n      <th>976</th>\n      <td>16016</td>\n      <td>2021-06-06 14:35:00</td>\n      <td>2</td>\n    </tr>\n    <tr>\n      <th>977</th>\n      <td>16017</td>\n      <td>2021-04-23 12:56:00</td>\n      <td>46</td>\n    </tr>\n    <tr>\n      <th>978</th>\n      <td>16018</td>\n      <td>2021-05-01 14:13:00</td>\n      <td>38</td>\n    </tr>\n    <tr>\n      <th>979</th>\n      <td>16019</td>\n      <td>2021-04-24 11:51:00</td>\n      <td>46</td>\n    </tr>\n  </tbody>\n</table>\n<p>980 rows × 3 columns</p>\n</div>"
     },
     "execution_count": 20,
     "metadata": {},
     "output_type": "execute_result"
    }
   ],
   "source": [],
   "metadata": {
    "collapsed": false,
    "pycharm": {
     "name": "#%%\n"
    }
   }
  }
 ],
 "metadata": {
  "kernelspec": {
   "name": "pycharm-93e84c60",
   "language": "python",
   "display_name": "PyCharm (practice)"
  },
  "language_info": {
   "codemirror_mode": {
    "name": "ipython",
    "version": 2
   },
   "file_extension": ".py",
   "mimetype": "text/x-python",
   "name": "python",
   "nbconvert_exporter": "python",
   "pygments_lexer": "ipython2",
   "version": "2.7.6"
  }
 },
 "nbformat": 4,
 "nbformat_minor": 0
}